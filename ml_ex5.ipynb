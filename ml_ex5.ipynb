{
 "cells": [
  {
   "cell_type": "code",
   "execution_count": 8,
   "metadata": {},
   "outputs": [],
   "source": [
    "import pandas as pd\n",
    "import numpy as np\n",
    "from sklearn.cluster import KMeans\n",
    "pd.options.display.max_rows = 100"
   ]
  },
  {
   "cell_type": "code",
   "execution_count": 9,
   "metadata": {
    "scrolled": true
   },
   "outputs": [
    {
     "data": {
      "text/plain": [
       "array([[20, 20,  0],\n",
       "       [17, 11,  1],\n",
       "       [ 1,  8,  2],\n",
       "       [11, 11,  0],\n",
       "       [13, 18,  1],\n",
       "       [ 1,  9,  2],\n",
       "       [ 7, 18,  1],\n",
       "       [ 7,  4,  0],\n",
       "       [ 5,  6,  2],\n",
       "       [ 5,  5,  2],\n",
       "       [12,  6,  2],\n",
       "       [18,  4,  0],\n",
       "       [20, 14,  1],\n",
       "       [ 6, 14,  2],\n",
       "       [ 7, 19,  2]])"
      ]
     },
     "execution_count": 9,
     "metadata": {},
     "output_type": "execute_result"
    }
   ],
   "source": [
    "df = pd.read_csv('ex5.csv', index_col='Object').to_numpy()\n",
    "df"
   ]
  },
  {
   "cell_type": "code",
   "execution_count": 10,
   "metadata": {},
   "outputs": [
    {
     "name": "stdout",
     "output_type": "stream",
     "text": [
      "[[20 20]\n",
      " [17 11]\n",
      " [ 1  8]\n",
      " [11 11]\n",
      " [13 18]\n",
      " [ 1  9]\n",
      " [ 7 18]\n",
      " [ 7  4]\n",
      " [ 5  6]\n",
      " [ 5  5]\n",
      " [12  6]\n",
      " [18  4]\n",
      " [20 14]\n",
      " [ 6 14]\n",
      " [ 7 19]] [0 1 2 0 1 2 1 0 2 2 2 0 1 2 2]\n"
     ]
    }
   ],
   "source": [
    "X = df[:, 0:2]\n",
    "Y = df[:, 2]\n",
    "print(X, Y)"
   ]
  },
  {
   "cell_type": "code",
   "execution_count": 11,
   "metadata": {},
   "outputs": [],
   "source": [
    "mean = KMeans(n_clusters = 3, init = np.array([[14.0, 9.75], [14.25, 15.25], [5.29, 9.57]]), max_iter = 100, n_init = 1)"
   ]
  },
  {
   "cell_type": "code",
   "execution_count": 12,
   "metadata": {},
   "outputs": [],
   "source": [
    "model = mean.fit(X)"
   ]
  },
  {
   "cell_type": "code",
   "execution_count": 26,
   "metadata": {},
   "outputs": [
    {
     "data": {
      "text/plain": [
       "array([1, 0, 2, 0, 1, 2, 1, 2, 2, 2, 0, 0, 1, 2, 1])"
      ]
     },
     "execution_count": 26,
     "metadata": {},
     "output_type": "execute_result"
    }
   ],
   "source": [
    "clusters = np.array(model.labels_.tolist())\n",
    "clusters"
   ]
  },
  {
   "cell_type": "code",
   "execution_count": 27,
   "metadata": {},
   "outputs": [
    {
     "data": {
      "text/plain": [
       "array([[13.20037878,  6.95701085, 20.07001633],\n",
       "       [ 3.90512484,  7.69415362, 13.25916874],\n",
       "       [13.5       , 15.80506248,  3.1841622 ],\n",
       "       [ 4.60977223,  7.21110255,  7.60299649],\n",
       "       [10.11187421,  0.4472136 , 13.59432071],\n",
       "       [13.53698637, 15.20526225,  3.43592135],\n",
       "       [12.5       ,  6.40312424, 10.71473544],\n",
       "       [ 8.5       , 15.2118375 ,  4.63381292],\n",
       "       [ 9.70824392, 14.48447445,  1.86338998],\n",
       "       [ 9.96242942, 15.31012737,  2.79384244],\n",
       "       [ 3.20156212, 11.88276062,  8.00867585],\n",
       "       [ 5.31507291, 14.54647724, 14.31102916],\n",
       "       [ 8.1394103 ,  7.61577311, 17.05302189],\n",
       "       [10.40432602,  8.31865374,  6.59334681],\n",
       "       [13.31352696,  6.51152824, 11.68213261]])"
      ]
     },
     "execution_count": 27,
     "metadata": {},
     "output_type": "execute_result"
    }
   ],
   "source": [
    "alldistances = mean.fit_transform(X)\n",
    "alldistances"
   ]
  },
  {
   "cell_type": "code",
   "execution_count": 39,
   "metadata": {},
   "outputs": [
    {
     "data": {
      "text/plain": [
       "array([13.20037878,  3.90512484, 13.5       ,  4.60977223, 10.11187421,\n",
       "       13.53698637, 12.5       ,  8.5       ,  9.70824392,  9.96242942,\n",
       "        3.20156212,  5.31507291,  8.1394103 , 10.40432602, 13.31352696])"
      ]
     },
     "execution_count": 39,
     "metadata": {},
     "output_type": "execute_result"
    }
   ],
   "source": [
    "distances = alldistances[:, 0]\n",
    "distances"
   ]
  },
  {
   "cell_type": "code",
   "execution_count": 40,
   "metadata": {},
   "outputs": [
    {
     "data": {
      "text/plain": [
       "(array([ 1,  3, 10, 11]),)"
      ]
     },
     "execution_count": 40,
     "metadata": {},
     "output_type": "execute_result"
    }
   ],
   "source": [
    "indicies = np.where(clusters == 0)\n",
    "indicies"
   ]
  },
  {
   "cell_type": "code",
   "execution_count": 41,
   "metadata": {},
   "outputs": [
    {
     "data": {
      "text/plain": [
       "4.25788302292088"
      ]
     },
     "execution_count": 41,
     "metadata": {},
     "output_type": "execute_result"
    }
   ],
   "source": [
    "distances[indicies].mean()"
   ]
  },
  {
   "cell_type": "code",
   "execution_count": null,
   "metadata": {},
   "outputs": [],
   "source": []
  }
 ],
 "metadata": {
  "kernelspec": {
   "display_name": "Python 3",
   "language": "python",
   "name": "python3"
  },
  "language_info": {
   "codemirror_mode": {
    "name": "ipython",
    "version": 3
   },
   "file_extension": ".py",
   "mimetype": "text/x-python",
   "name": "python",
   "nbconvert_exporter": "python",
   "pygments_lexer": "ipython3",
   "version": "3.7.4"
  }
 },
 "nbformat": 4,
 "nbformat_minor": 2
}
