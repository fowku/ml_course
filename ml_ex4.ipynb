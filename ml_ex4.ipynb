{
 "cells": [
  {
   "cell_type": "code",
   "execution_count": 61,
   "metadata": {},
   "outputs": [],
   "source": [
    "import pandas as pd\n",
    "import numpy as np\n",
    "from sklearn.naive_bayes import GaussianNB\n",
    "pd.options.display.max_rows = 100"
   ]
  },
  {
   "cell_type": "code",
   "execution_count": 118,
   "metadata": {
    "scrolled": true
   },
   "outputs": [
    {
     "data": {
      "text/html": [
       "<div>\n",
       "<style scoped>\n",
       "    .dataframe tbody tr th:only-of-type {\n",
       "        vertical-align: middle;\n",
       "    }\n",
       "\n",
       "    .dataframe tbody tr th {\n",
       "        vertical-align: top;\n",
       "    }\n",
       "\n",
       "    .dataframe thead th {\n",
       "        text-align: right;\n",
       "    }\n",
       "</style>\n",
       "<table border=\"1\" class=\"dataframe\">\n",
       "  <thead>\n",
       "    <tr style=\"text-align: right;\">\n",
       "      <th></th>\n",
       "      <th>SPAM</th>\n",
       "      <th>HAM</th>\n",
       "    </tr>\n",
       "    <tr>\n",
       "      <th>word</th>\n",
       "      <th></th>\n",
       "      <th></th>\n",
       "    </tr>\n",
       "  </thead>\n",
       "  <tbody>\n",
       "    <tr>\n",
       "      <th>Investment</th>\n",
       "      <td>10</td>\n",
       "      <td>36</td>\n",
       "    </tr>\n",
       "    <tr>\n",
       "      <th>Refund</th>\n",
       "      <td>8</td>\n",
       "      <td>0</td>\n",
       "    </tr>\n",
       "    <tr>\n",
       "      <th>Online</th>\n",
       "      <td>1</td>\n",
       "      <td>16</td>\n",
       "    </tr>\n",
       "    <tr>\n",
       "      <th>Million</th>\n",
       "      <td>13</td>\n",
       "      <td>9</td>\n",
       "    </tr>\n",
       "    <tr>\n",
       "      <th>Coupon</th>\n",
       "      <td>31</td>\n",
       "      <td>2</td>\n",
       "    </tr>\n",
       "    <tr>\n",
       "      <th>Prize</th>\n",
       "      <td>10</td>\n",
       "      <td>5</td>\n",
       "    </tr>\n",
       "    <tr>\n",
       "      <th>Access</th>\n",
       "      <td>9</td>\n",
       "      <td>6</td>\n",
       "    </tr>\n",
       "    <tr>\n",
       "      <th>Bill</th>\n",
       "      <td>0</td>\n",
       "      <td>16</td>\n",
       "    </tr>\n",
       "    <tr>\n",
       "      <th>Bonus</th>\n",
       "      <td>34</td>\n",
       "      <td>16</td>\n",
       "    </tr>\n",
       "    <tr>\n",
       "      <th>Free</th>\n",
       "      <td>45</td>\n",
       "      <td>87</td>\n",
       "    </tr>\n",
       "  </tbody>\n",
       "</table>\n",
       "</div>"
      ],
      "text/plain": [
       "            SPAM  HAM\n",
       "word                 \n",
       "Investment    10   36\n",
       "Refund         8    0\n",
       "Online         1   16\n",
       "Million       13    9\n",
       "Coupon        31    2\n",
       "Prize         10    5\n",
       "Access         9    6\n",
       "Bill           0   16\n",
       "Bonus         34   16\n",
       "Free          45   87"
      ]
     },
     "execution_count": 118,
     "metadata": {},
     "output_type": "execute_result"
    }
   ],
   "source": [
    "words = pd.read_csv('words.csv', index_col = 'word')\n",
    "summary = pd.read_csv('summary.csv', index_col = 'id')\n",
    "words"
   ]
  },
  {
   "cell_type": "code",
   "execution_count": 63,
   "metadata": {},
   "outputs": [],
   "source": [
    "isSpam = 23 / 48\n",
    "isNotSpam = 25 / 48"
   ]
  },
  {
   "cell_type": "code",
   "execution_count": 64,
   "metadata": {},
   "outputs": [
    {
     "data": {
      "text/plain": [
       "-0.7357067949787413"
      ]
     },
     "execution_count": 64,
     "metadata": {},
     "output_type": "execute_result"
    }
   ],
   "source": [
    "isSpamLog = np.log(isSpam)\n",
    "isNotSpamLog = np.log(isNotSpam)\n",
    "isSpamLog"
   ]
  },
  {
   "cell_type": "code",
   "execution_count": 65,
   "metadata": {},
   "outputs": [
    {
     "data": {
      "text/plain": [
       "['Free', 'Offer', 'Access', 'Purchase', 'Prize', 'Bonus', 'Online']"
      ]
     },
     "execution_count": 65,
     "metadata": {},
     "output_type": "execute_result"
    }
   ],
   "source": [
    "text = 'Free Offer Access Purchase Prize Bonus Online'\n",
    "textArray = text.split()\n",
    "textArray"
   ]
  },
  {
   "cell_type": "code",
   "execution_count": 131,
   "metadata": {},
   "outputs": [
    {
     "name": "stdout",
     "output_type": "stream",
     "text": [
      "-23.949734686166487\n",
      "-23.963333918458193\n",
      "0.49660024432256344 0.5033997556774366\n"
     ]
    }
   ],
   "source": [
    "def calculate(probLog, spamOrHam):\n",
    "    occurrences = []\n",
    "    numberOfRows = len(words.index)\n",
    "    numberOfWords = summary[[spamOrHam]].T.iloc[0]['Words']\n",
    "\n",
    "    for word in textArray:\n",
    "        if word in words.index:\n",
    "            occurrences.append(words[[spamOrHam]].T.iloc[0][word] + 1)\n",
    "        else:\n",
    "            occurrences.append(1)\n",
    "\n",
    "    denominator = numberOfRows + numberOfWords\n",
    "    result = probLog\n",
    "\n",
    "    for occurrence in occurrences:\n",
    "        result += np.log(occurrence/denominator)\n",
    "    \n",
    "    return result\n",
    "\n",
    "x = calculate(isSpamLog, 'SPAM')\n",
    "y = calculate(isNotSpamLog, 'HAM')\n",
    "\n",
    "notSpamProb = 1/(1 + np.exp(x - y))\n",
    "spamProb = 1/(1 + np.exp(y - x))\n",
    "\n",
    "print(x)\n",
    "print(y)\n",
    "print(notSpamProb, spamProb)"
   ]
  },
  {
   "cell_type": "code",
   "execution_count": null,
   "metadata": {},
   "outputs": [],
   "source": []
  }
 ],
 "metadata": {
  "kernelspec": {
   "display_name": "Python 3",
   "language": "python",
   "name": "python3"
  },
  "language_info": {
   "codemirror_mode": {
    "name": "ipython",
    "version": 3
   },
   "file_extension": ".py",
   "mimetype": "text/x-python",
   "name": "python",
   "nbconvert_exporter": "python",
   "pygments_lexer": "ipython3",
   "version": "3.7.4"
  }
 },
 "nbformat": 4,
 "nbformat_minor": 2
}
