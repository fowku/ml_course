{
 "cells": [
  {
   "cell_type": "code",
   "execution_count": 3,
   "metadata": {},
   "outputs": [],
   "source": [
    "import pandas as pd\n",
    "import numpy as np\n",
    "from sklearn.cluster import KMeans\n",
    "pd.options.display.max_rows = 100"
   ]
  },
  {
   "cell_type": "code",
   "execution_count": null,
   "metadata": {},
   "outputs": [],
   "source": [
    "# SQL query\n",
    "# select * from pulsar_stars\n",
    "# where (MIP >= 82.9453125 and MIP <= 84.3515625 and TARGET = 0) or (MIP >= 83.7734375 and MIP <= 92.6015625 and TARGET = 1)"
   ]
  },
  {
   "cell_type": "code",
   "execution_count": 4,
   "metadata": {},
   "outputs": [
    {
     "data": {
      "text/html": [
       "<div>\n",
       "<style scoped>\n",
       "    .dataframe tbody tr th:only-of-type {\n",
       "        vertical-align: middle;\n",
       "    }\n",
       "\n",
       "    .dataframe tbody tr th {\n",
       "        vertical-align: top;\n",
       "    }\n",
       "\n",
       "    .dataframe thead th {\n",
       "        text-align: right;\n",
       "    }\n",
       "</style>\n",
       "<table border=\"1\" class=\"dataframe\">\n",
       "  <thead>\n",
       "    <tr style=\"text-align: right;\">\n",
       "      <th></th>\n",
       "      <th>MIP</th>\n",
       "      <th>STDIP</th>\n",
       "      <th>EKIP</th>\n",
       "      <th>SIP</th>\n",
       "      <th>MC</th>\n",
       "      <th>STDC</th>\n",
       "      <th>EKC</th>\n",
       "      <th>SC</th>\n",
       "      <th>TARGET</th>\n",
       "    </tr>\n",
       "  </thead>\n",
       "  <tbody>\n",
       "    <tr>\n",
       "      <th>0</th>\n",
       "      <td>84.742188</td>\n",
       "      <td>40.007274</td>\n",
       "      <td>1.368957</td>\n",
       "      <td>3.812073</td>\n",
       "      <td>5.736622</td>\n",
       "      <td>32.047311</td>\n",
       "      <td>5.979603</td>\n",
       "      <td>36.147975</td>\n",
       "      <td>1</td>\n",
       "    </tr>\n",
       "    <tr>\n",
       "      <th>1</th>\n",
       "      <td>91.828125</td>\n",
       "      <td>34.111744</td>\n",
       "      <td>1.446682</td>\n",
       "      <td>5.265289</td>\n",
       "      <td>3.741639</td>\n",
       "      <td>25.317370</td>\n",
       "      <td>7.235101</td>\n",
       "      <td>53.582074</td>\n",
       "      <td>1</td>\n",
       "    </tr>\n",
       "    <tr>\n",
       "      <th>2</th>\n",
       "      <td>83.679688</td>\n",
       "      <td>36.379281</td>\n",
       "      <td>0.572532</td>\n",
       "      <td>2.664611</td>\n",
       "      <td>4.040970</td>\n",
       "      <td>23.169129</td>\n",
       "      <td>7.006681</td>\n",
       "      <td>53.514005</td>\n",
       "      <td>0</td>\n",
       "    </tr>\n",
       "    <tr>\n",
       "      <th>3</th>\n",
       "      <td>84.039062</td>\n",
       "      <td>38.943951</td>\n",
       "      <td>0.668007</td>\n",
       "      <td>1.586058</td>\n",
       "      <td>1.793478</td>\n",
       "      <td>13.494579</td>\n",
       "      <td>11.433532</td>\n",
       "      <td>161.907833</td>\n",
       "      <td>0</td>\n",
       "    </tr>\n",
       "    <tr>\n",
       "      <th>4</th>\n",
       "      <td>84.273438</td>\n",
       "      <td>38.399975</td>\n",
       "      <td>0.662579</td>\n",
       "      <td>1.778425</td>\n",
       "      <td>2.984114</td>\n",
       "      <td>16.690291</td>\n",
       "      <td>8.407608</td>\n",
       "      <td>86.913036</td>\n",
       "      <td>0</td>\n",
       "    </tr>\n",
       "    <tr>\n",
       "      <th>...</th>\n",
       "      <td>...</td>\n",
       "      <td>...</td>\n",
       "      <td>...</td>\n",
       "      <td>...</td>\n",
       "      <td>...</td>\n",
       "      <td>...</td>\n",
       "      <td>...</td>\n",
       "      <td>...</td>\n",
       "      <td>...</td>\n",
       "    </tr>\n",
       "    <tr>\n",
       "      <th>197</th>\n",
       "      <td>84.695312</td>\n",
       "      <td>49.348499</td>\n",
       "      <td>0.960378</td>\n",
       "      <td>1.102570</td>\n",
       "      <td>5.490803</td>\n",
       "      <td>27.764100</td>\n",
       "      <td>6.181768</td>\n",
       "      <td>40.399247</td>\n",
       "      <td>1</td>\n",
       "    </tr>\n",
       "    <tr>\n",
       "      <th>198</th>\n",
       "      <td>83.773438</td>\n",
       "      <td>52.279031</td>\n",
       "      <td>1.206698</td>\n",
       "      <td>1.630834</td>\n",
       "      <td>97.373746</td>\n",
       "      <td>90.905524</td>\n",
       "      <td>0.132639</td>\n",
       "      <td>-1.683188</td>\n",
       "      <td>1</td>\n",
       "    </tr>\n",
       "    <tr>\n",
       "      <th>199</th>\n",
       "      <td>84.289062</td>\n",
       "      <td>38.725224</td>\n",
       "      <td>0.533822</td>\n",
       "      <td>1.800349</td>\n",
       "      <td>2.167224</td>\n",
       "      <td>15.943057</td>\n",
       "      <td>9.864013</td>\n",
       "      <td>115.332025</td>\n",
       "      <td>0</td>\n",
       "    </tr>\n",
       "    <tr>\n",
       "      <th>200</th>\n",
       "      <td>84.304688</td>\n",
       "      <td>32.877271</td>\n",
       "      <td>0.910484</td>\n",
       "      <td>4.379138</td>\n",
       "      <td>2.716555</td>\n",
       "      <td>19.913838</td>\n",
       "      <td>8.192144</td>\n",
       "      <td>72.083951</td>\n",
       "      <td>0</td>\n",
       "    </tr>\n",
       "    <tr>\n",
       "      <th>201</th>\n",
       "      <td>83.507812</td>\n",
       "      <td>34.670321</td>\n",
       "      <td>1.079368</td>\n",
       "      <td>3.660143</td>\n",
       "      <td>1.545987</td>\n",
       "      <td>15.268184</td>\n",
       "      <td>11.980909</td>\n",
       "      <td>159.930732</td>\n",
       "      <td>0</td>\n",
       "    </tr>\n",
       "  </tbody>\n",
       "</table>\n",
       "<p>202 rows × 9 columns</p>\n",
       "</div>"
      ],
      "text/plain": [
       "           MIP      STDIP      EKIP       SIP         MC       STDC  \\\n",
       "0    84.742188  40.007274  1.368957  3.812073   5.736622  32.047311   \n",
       "1    91.828125  34.111744  1.446682  5.265289   3.741639  25.317370   \n",
       "2    83.679688  36.379281  0.572532  2.664611   4.040970  23.169129   \n",
       "3    84.039062  38.943951  0.668007  1.586058   1.793478  13.494579   \n",
       "4    84.273438  38.399975  0.662579  1.778425   2.984114  16.690291   \n",
       "..         ...        ...       ...       ...        ...        ...   \n",
       "197  84.695312  49.348499  0.960378  1.102570   5.490803  27.764100   \n",
       "198  83.773438  52.279031  1.206698  1.630834  97.373746  90.905524   \n",
       "199  84.289062  38.725224  0.533822  1.800349   2.167224  15.943057   \n",
       "200  84.304688  32.877271  0.910484  4.379138   2.716555  19.913838   \n",
       "201  83.507812  34.670321  1.079368  3.660143   1.545987  15.268184   \n",
       "\n",
       "           EKC          SC  TARGET  \n",
       "0     5.979603   36.147975       1  \n",
       "1     7.235101   53.582074       1  \n",
       "2     7.006681   53.514005       0  \n",
       "3    11.433532  161.907833       0  \n",
       "4     8.407608   86.913036       0  \n",
       "..         ...         ...     ...  \n",
       "197   6.181768   40.399247       1  \n",
       "198   0.132639   -1.683188       1  \n",
       "199   9.864013  115.332025       0  \n",
       "200   8.192144   72.083951       0  \n",
       "201  11.980909  159.930732       0  \n",
       "\n",
       "[202 rows x 9 columns]"
      ]
     },
     "execution_count": 4,
     "metadata": {},
     "output_type": "execute_result"
    }
   ],
   "source": [
    "df = pd.read_csv('report.csv')\n",
    "df"
   ]
  },
  {
   "cell_type": "code",
   "execution_count": 7,
   "metadata": {},
   "outputs": [
    {
     "data": {
      "text/plain": [
       "202"
      ]
     },
     "execution_count": 7,
     "metadata": {},
     "output_type": "execute_result"
    }
   ],
   "source": [
    "# число строк\n",
    "len(df.index)"
   ]
  },
  {
   "cell_type": "code",
   "execution_count": 6,
   "metadata": {},
   "outputs": [
    {
     "data": {
      "text/plain": [
       "85.78925587871286"
      ]
     },
     "execution_count": 6,
     "metadata": {},
     "output_type": "execute_result"
    }
   ],
   "source": [
    "# выборочное среднее MIP\n",
    "df.MIP.mean()"
   ]
  },
  {
   "cell_type": "code",
   "execution_count": 23,
   "metadata": {},
   "outputs": [
    {
     "data": {
      "text/plain": [
       "0.2945184081514949"
      ]
     },
     "execution_count": 23,
     "metadata": {},
     "output_type": "execute_result"
    }
   ],
   "source": [
    "# линейная нормировка всех значений предикторов, выборочное среднее MIP\n",
    "from sklearn.preprocessing import minmax_scale\n",
    "predictors = df.drop(['TARGET'], axis = 1)\n",
    "normalizedPred = minmax_scale(predictors)\n",
    "normalizedPred[:, 0].mean()"
   ]
  },
  {
   "cell_type": "code",
   "execution_count": 28,
   "metadata": {},
   "outputs": [],
   "source": [
    "# модель логистической регрессии\n",
    "from sklearn.linear_model import LogisticRegression\n",
    "otkl = df['TARGET']\n",
    "model = LogisticRegression(random_state = 2019, solver = 'lbfgs').fit(normalizedPred, otkl.values.ravel())"
   ]
  },
  {
   "cell_type": "code",
   "execution_count": 37,
   "metadata": {},
   "outputs": [
    {
     "data": {
      "text/plain": [
       "0.6135141552545638"
      ]
     },
     "execution_count": 37,
     "metadata": {},
     "output_type": "execute_result"
    }
   ],
   "source": [
    "# вероятность отнесения звезды к классу пульсар\n",
    "newStar = [[0.337, 0.513, 0.425, 0.036, 0.928, 0.721, 0.714, 0.261]]\n",
    "model.predict_proba(newStar)[0, 1]"
   ]
  },
  {
   "cell_type": "code",
   "execution_count": 59,
   "metadata": {},
   "outputs": [
    {
     "data": {
      "text/plain": [
       "0.7828460858809095"
      ]
     },
     "execution_count": 59,
     "metadata": {},
     "output_type": "execute_result"
    }
   ],
   "source": [
    "#метод k-ближайших соседей, расстояние от новой звезды до ближайшего соседа\n",
    "from sklearn.neighbors import KDTree\n",
    "tree = KDTree(normalizedPred, leaf_size = 2, metric = 'euclidean')\n",
    "tree.query(newStar, k = 1, return_distance = True)[0][0, 0]"
   ]
  },
  {
   "cell_type": "code",
   "execution_count": 63,
   "metadata": {},
   "outputs": [
    {
     "data": {
      "text/plain": [
       "array([[111, 113, 103, 177, 148]])"
      ]
     },
     "execution_count": 63,
     "metadata": {},
     "output_type": "execute_result"
    }
   ],
   "source": [
    "# класс для новой звезды при k = 5\n",
    "fiveNeighbours = tree.query(newStar, k = 5, return_distance = True)\n",
    "fiveNeighbours[1]"
   ]
  },
  {
   "cell_type": "code",
   "execution_count": 64,
   "metadata": {},
   "outputs": [
    {
     "data": {
      "text/plain": [
       "array([[1, 0, 1, 1, 1]])"
      ]
     },
     "execution_count": 64,
     "metadata": {},
     "output_type": "execute_result"
    }
   ],
   "source": [
    "# 1, т.к. преобладающее большинство равно 1\n",
    "otkl.values.ravel()[fiveNeighbours[1]]"
   ]
  }
 ],
 "metadata": {
  "kernelspec": {
   "display_name": "Python 3",
   "language": "python",
   "name": "python3"
  },
  "language_info": {
   "codemirror_mode": {
    "name": "ipython",
    "version": 3
   },
   "file_extension": ".py",
   "mimetype": "text/x-python",
   "name": "python",
   "nbconvert_exporter": "python",
   "pygments_lexer": "ipython3",
   "version": "3.7.4"
  }
 },
 "nbformat": 4,
 "nbformat_minor": 2
}
